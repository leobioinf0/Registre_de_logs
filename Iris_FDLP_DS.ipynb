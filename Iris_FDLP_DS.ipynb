{
  "nbformat": 4,
  "nbformat_minor": 0,
  "metadata": {
    "colab": {
      "name": "Iris_FDLP_DS.ipynb",
      "provenance": [],
      "collapsed_sections": [],
      "authorship_tag": "ABX9TyO5S0I1NvWouwvcHcE6Zs6v",
      "include_colab_link": true
    },
    "kernelspec": {
      "name": "python3",
      "display_name": "Python 3"
    },
    "language_info": {
      "name": "python"
    }
  },
  "cells": [
    {
      "cell_type": "markdown",
      "metadata": {
        "id": "view-in-github",
        "colab_type": "text"
      },
      "source": [
        "<a href=\"https://colab.research.google.com/github/leobioinf0/Registre_de_logs/blob/main/Iris_FDLP_DS.ipynb\" target=\"_parent\"><img src=\"https://colab.research.google.com/assets/colab-badge.svg\" alt=\"Open In Colab\"/></a>"
      ]
    },
    {
      "cell_type": "code",
      "source": [
        "%pip install pygeoip"
      ],
      "metadata": {
        "id": "Np5Fw6unaGjZ"
      },
      "execution_count": null,
      "outputs": []
    },
    {
      "cell_type": "code",
      "source": [
        "!wget https://raw.githubusercontent.com/leobioinf0/Registre_de_logs/main/GeoLiteCity.dat"
      ],
      "metadata": {
        "id": "d3DEBQ0gaRjX"
      },
      "execution_count": null,
      "outputs": []
    },
    {
      "cell_type": "code",
      "source": [
        "import pygeoip\n",
        "gi = pygeoip.GeoIP('./GeoLiteCity.dat', pygeoip.MEMORY_CACHE)"
      ],
      "metadata": {
        "id": "1JvfbZvAaY1D"
      },
      "execution_count": 3,
      "outputs": []
    },
    {
      "cell_type": "code",
      "source": [
        "gi.record_by_addr(\"14.139.61.12\")"
      ],
      "metadata": {
        "colab": {
          "base_uri": "https://localhost:8080/"
        },
        "id": "sI1IDHGUagNA",
        "outputId": "15eb172d-5f4c-4f94-8a74-91afecaf1f0b"
      },
      "execution_count": 4,
      "outputs": [
        {
          "output_type": "execute_result",
          "data": {
            "text/plain": [
              "{'area_code': 0,\n",
              " 'city': 'New Delhi',\n",
              " 'continent': 'AS',\n",
              " 'country_code': 'IN',\n",
              " 'country_code3': 'IND',\n",
              " 'country_name': 'India',\n",
              " 'dma_code': 0,\n",
              " 'latitude': 28.599999999999994,\n",
              " 'longitude': 77.19999999999999,\n",
              " 'metro_code': None,\n",
              " 'postal_code': None,\n",
              " 'region_code': '07',\n",
              " 'time_zone': 'Asia/Calcutta'}"
            ]
          },
          "metadata": {},
          "execution_count": 4
        }
      ]
    }
  ]
}